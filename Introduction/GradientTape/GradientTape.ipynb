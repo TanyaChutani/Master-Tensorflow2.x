{
  "nbformat": 4,
  "nbformat_minor": 0,
  "metadata": {
    "colab": {
      "name": "GradientTape.ipynb",
      "provenance": [],
      "collapsed_sections": []
    },
    "kernelspec": {
      "name": "python3",
      "display_name": "Python 3"
    }
  },
  "cells": [
    {
      "cell_type": "markdown",
      "metadata": {
        "id": "WFjBrwwwjB92"
      },
      "source": [
        "## $f(x) = x^n$.\n",
        "\n",
        "## First Order Derivative $f'(x) = nx^{n-1}$\n",
        "\n"
      ]
    },
    {
      "cell_type": "code",
      "metadata": {
        "id": "bVZ99pe-e7ow",
        "colab": {
          "base_uri": "https://localhost:8080/",
          "height": 34
        },
        "outputId": "3a2d3acd-5483-4069-e8f8-908bd67cdafe"
      },
      "source": [
        "import tensorflow as tf\n",
        "a = tf.constant(6.0)\n",
        "with tf.GradientTape() as t:\n",
        "  t.watch(a)\n",
        "  y=a*a\n",
        "dy=t.gradient(y,a)\n",
        "dy\n"
      ],
      "execution_count": null,
      "outputs": [
        {
          "output_type": "execute_result",
          "data": {
            "text/plain": [
              "<tf.Tensor: shape=(), dtype=float32, numpy=12.0>"
            ]
          },
          "metadata": {
            "tags": []
          },
          "execution_count": 55
        }
      ]
    },
    {
      "cell_type": "markdown",
      "metadata": {
        "id": "F8JB_z01-oJW"
      },
      "source": [
        "## First Order derivatve of sigmoid and Tanh using gradient tape\n",
        "\n",
        "#### sigmoid $f(x) = \\frac{1}{1 + e^{-x}}$\n",
        "#### Tanh $f(x) = \\frac{2}{1 + e ^{-2x}} -1$"
      ]
    },
    {
      "cell_type": "code",
      "metadata": {
        "id": "jwdmpTxw3Tpo",
        "colab": {
          "base_uri": "https://localhost:8080/",
          "height": 34
        },
        "outputId": "5a34b573-d9c9-4979-cf91-cdd986f542f3"
      },
      "source": [
        "# sigmoid\n",
        "\n",
        "x=tf.constant([2.0])\n",
        "\n",
        "with tf.GradientTape() as t:\n",
        "  t.watch(x)\n",
        "  y = tf.divide(1.0,(tf.add(1.0,tf.exp(-x))))\n",
        "dy=t.gradient(y,x)\n",
        "dy"
      ],
      "execution_count": null,
      "outputs": [
        {
          "output_type": "execute_result",
          "data": {
            "text/plain": [
              "<tf.Tensor: shape=(1,), dtype=float32, numpy=array([0.10499357], dtype=float32)>"
            ]
          },
          "metadata": {
            "tags": []
          },
          "execution_count": 56
        }
      ]
    },
    {
      "cell_type": "code",
      "metadata": {
        "id": "TOrt7Tb6_ICf",
        "colab": {
          "base_uri": "https://localhost:8080/",
          "height": 34
        },
        "outputId": "3db0f119-7007-4771-886b-9695837df9cd"
      },
      "source": [
        "# Tanh\n",
        "x=tf.constant([2.0])\n",
        "with tf.GradientTape() as t:\n",
        "  t.watch(x)\n",
        "  y = tf.subtract(tf.divide(2.0,tf.add(1.0,tf.exp(tf.multiply(-2.0,x)))),1.0)\n",
        "dy=t.gradient(y,x)\n",
        "dy"
      ],
      "execution_count": null,
      "outputs": [
        {
          "output_type": "execute_result",
          "data": {
            "text/plain": [
              "<tf.Tensor: shape=(1,), dtype=float32, numpy=array([0.07065082], dtype=float32)>"
            ]
          },
          "metadata": {
            "tags": []
          },
          "execution_count": 57
        }
      ]
    },
    {
      "cell_type": "markdown",
      "metadata": {
        "id": "VpeU4ZpnDyNk"
      },
      "source": [
        "## Linear Regression"
      ]
    },
    {
      "cell_type": "code",
      "metadata": {
        "id": "ZUlnMCvZDKn-",
        "colab": {
          "base_uri": "https://localhost:8080/",
          "height": 1000
        },
        "outputId": "7858d3cc-bba7-438e-b2e8-4f2598f4a0fb"
      },
      "source": [
        "num_example=100\n",
        "batch_size=8\n",
        "epoch=10\n",
        "\n",
        "inputs = tf.random.normal(shape=[num_example])\n",
        "\n",
        "w = tf.Variable(tf.random.uniform(shape=[batch_size]))\n",
        "b = tf.Variable(tf.random.uniform(shape=[batch_size]))\n",
        "\n",
        "outputs = tf.random.normal(shape=[num_example])\n",
        "\n",
        "optimizer = tf.optimizers.Adam(0.001)\n",
        "loss=tf.keras.losses.MeanSquaredError(reduction=\n",
        "                                      tf.keras.losses.Reduction.NONE)\n",
        "\n",
        "dataset = tf.data.Dataset.from_tensor_slices((inputs, outputs))\n",
        "dataset = dataset.shuffle(buffer_size=1024).batch(batch_size,\n",
        "                                                  drop_remainder=True)\n",
        "\n",
        "def model(x):\n",
        "  return tf.add(tf.multiply(w,x),b)\n",
        "\n",
        "\n",
        "def train_step(inputs,outputs):\n",
        "  with tf.GradientTape() as t:\n",
        "    y_output = model(inputs)\n",
        "    loss_val = loss(outputs,y_output)\n",
        "    print(loss_val)\n",
        "    grads = t.gradient(loss_val,[b,w])\n",
        "    optimizer.apply_gradients(zip(grads,[b,w]))\n",
        "\n",
        "\n",
        "def main():\n",
        "  for i in range(epoch):\n",
        "    print(\"Epochs \",i+1)\n",
        "    for j,(feature,label) in enumerate(dataset):\n",
        "      train_step(feature,label)\n",
        "\n",
        "\n",
        "if __name__=='__main__':\n",
        "  main()"
      ],
      "execution_count": null,
      "outputs": [
        {
          "output_type": "stream",
          "text": [
            "Epochs  1\n",
            "tf.Tensor(0.5926085, shape=(), dtype=float32)\n",
            "tf.Tensor(1.0550075, shape=(), dtype=float32)\n",
            "tf.Tensor(2.2075531, shape=(), dtype=float32)\n",
            "tf.Tensor(2.7672424, shape=(), dtype=float32)\n",
            "tf.Tensor(1.8412142, shape=(), dtype=float32)\n",
            "tf.Tensor(2.5739684, shape=(), dtype=float32)\n",
            "tf.Tensor(2.1910534, shape=(), dtype=float32)\n",
            "tf.Tensor(2.9459448, shape=(), dtype=float32)\n",
            "tf.Tensor(1.1921713, shape=(), dtype=float32)\n",
            "tf.Tensor(1.2546576, shape=(), dtype=float32)\n",
            "tf.Tensor(2.0187178, shape=(), dtype=float32)\n",
            "tf.Tensor(1.5747628, shape=(), dtype=float32)\n",
            "Epochs  2\n",
            "tf.Tensor(2.2077312, shape=(), dtype=float32)\n",
            "tf.Tensor(1.0533657, shape=(), dtype=float32)\n",
            "tf.Tensor(0.86177754, shape=(), dtype=float32)\n",
            "tf.Tensor(1.6410985, shape=(), dtype=float32)\n",
            "tf.Tensor(1.4750881, shape=(), dtype=float32)\n",
            "tf.Tensor(3.1038613, shape=(), dtype=float32)\n",
            "tf.Tensor(1.5539604, shape=(), dtype=float32)\n",
            "tf.Tensor(1.6509082, shape=(), dtype=float32)\n",
            "tf.Tensor(2.6341617, shape=(), dtype=float32)\n",
            "tf.Tensor(0.88844603, shape=(), dtype=float32)\n",
            "tf.Tensor(1.7857682, shape=(), dtype=float32)\n",
            "tf.Tensor(1.3873689, shape=(), dtype=float32)\n",
            "Epochs  3\n",
            "tf.Tensor(1.5517914, shape=(), dtype=float32)\n",
            "tf.Tensor(1.5842576, shape=(), dtype=float32)\n",
            "tf.Tensor(1.0179229, shape=(), dtype=float32)\n",
            "tf.Tensor(0.8328785, shape=(), dtype=float32)\n",
            "tf.Tensor(1.391156, shape=(), dtype=float32)\n",
            "tf.Tensor(1.7095677, shape=(), dtype=float32)\n",
            "tf.Tensor(3.4072835, shape=(), dtype=float32)\n",
            "tf.Tensor(0.91842175, shape=(), dtype=float32)\n",
            "tf.Tensor(2.0776162, shape=(), dtype=float32)\n",
            "tf.Tensor(1.7054305, shape=(), dtype=float32)\n",
            "tf.Tensor(1.8914447, shape=(), dtype=float32)\n",
            "tf.Tensor(1.4126289, shape=(), dtype=float32)\n",
            "Epochs  4\n",
            "tf.Tensor(2.3189788, shape=(), dtype=float32)\n",
            "tf.Tensor(1.7164161, shape=(), dtype=float32)\n",
            "tf.Tensor(0.67452556, shape=(), dtype=float32)\n",
            "tf.Tensor(0.43879458, shape=(), dtype=float32)\n",
            "tf.Tensor(1.8441508, shape=(), dtype=float32)\n",
            "tf.Tensor(1.5562332, shape=(), dtype=float32)\n",
            "tf.Tensor(1.6910763, shape=(), dtype=float32)\n",
            "tf.Tensor(1.4296358, shape=(), dtype=float32)\n",
            "tf.Tensor(2.4068418, shape=(), dtype=float32)\n",
            "tf.Tensor(3.8057828, shape=(), dtype=float32)\n",
            "tf.Tensor(1.1290219, shape=(), dtype=float32)\n",
            "tf.Tensor(1.1375664, shape=(), dtype=float32)\n",
            "Epochs  5\n",
            "tf.Tensor(1.9192793, shape=(), dtype=float32)\n",
            "tf.Tensor(1.2278969, shape=(), dtype=float32)\n",
            "tf.Tensor(2.6495943, shape=(), dtype=float32)\n",
            "tf.Tensor(2.5989528, shape=(), dtype=float32)\n",
            "tf.Tensor(1.059272, shape=(), dtype=float32)\n",
            "tf.Tensor(0.79877496, shape=(), dtype=float32)\n",
            "tf.Tensor(2.158127, shape=(), dtype=float32)\n",
            "tf.Tensor(1.9442346, shape=(), dtype=float32)\n",
            "tf.Tensor(1.0324017, shape=(), dtype=float32)\n",
            "tf.Tensor(1.7546067, shape=(), dtype=float32)\n",
            "tf.Tensor(1.9326992, shape=(), dtype=float32)\n",
            "tf.Tensor(1.6791928, shape=(), dtype=float32)\n",
            "Epochs  6\n",
            "tf.Tensor(2.126532, shape=(), dtype=float32)\n",
            "tf.Tensor(3.7290828, shape=(), dtype=float32)\n",
            "tf.Tensor(1.3283334, shape=(), dtype=float32)\n",
            "tf.Tensor(0.97942096, shape=(), dtype=float32)\n",
            "tf.Tensor(2.2372327, shape=(), dtype=float32)\n",
            "tf.Tensor(2.1912866, shape=(), dtype=float32)\n",
            "tf.Tensor(2.7343771, shape=(), dtype=float32)\n",
            "tf.Tensor(2.127563, shape=(), dtype=float32)\n",
            "tf.Tensor(1.1082418, shape=(), dtype=float32)\n",
            "tf.Tensor(2.2649531, shape=(), dtype=float32)\n",
            "tf.Tensor(0.9722171, shape=(), dtype=float32)\n",
            "tf.Tensor(1.3068174, shape=(), dtype=float32)\n",
            "Epochs  7\n",
            "tf.Tensor(1.1394883, shape=(), dtype=float32)\n",
            "tf.Tensor(2.125794, shape=(), dtype=float32)\n",
            "tf.Tensor(1.8164821, shape=(), dtype=float32)\n",
            "tf.Tensor(2.589799, shape=(), dtype=float32)\n",
            "tf.Tensor(2.915594, shape=(), dtype=float32)\n",
            "tf.Tensor(1.9266475, shape=(), dtype=float32)\n",
            "tf.Tensor(1.485727, shape=(), dtype=float32)\n",
            "tf.Tensor(1.2811973, shape=(), dtype=float32)\n",
            "tf.Tensor(2.7055447, shape=(), dtype=float32)\n",
            "tf.Tensor(1.5355564, shape=(), dtype=float32)\n",
            "tf.Tensor(1.1080678, shape=(), dtype=float32)\n",
            "tf.Tensor(1.5589372, shape=(), dtype=float32)\n",
            "Epochs  8\n",
            "tf.Tensor(0.67095095, shape=(), dtype=float32)\n",
            "tf.Tensor(2.150311, shape=(), dtype=float32)\n",
            "tf.Tensor(2.3702497, shape=(), dtype=float32)\n",
            "tf.Tensor(1.97436, shape=(), dtype=float32)\n",
            "tf.Tensor(1.1058037, shape=(), dtype=float32)\n",
            "tf.Tensor(1.4242523, shape=(), dtype=float32)\n",
            "tf.Tensor(1.8547578, shape=(), dtype=float32)\n",
            "tf.Tensor(1.570868, shape=(), dtype=float32)\n",
            "tf.Tensor(1.3469203, shape=(), dtype=float32)\n",
            "tf.Tensor(1.3619616, shape=(), dtype=float32)\n",
            "tf.Tensor(2.802239, shape=(), dtype=float32)\n",
            "tf.Tensor(3.070807, shape=(), dtype=float32)\n",
            "Epochs  9\n",
            "tf.Tensor(1.6994824, shape=(), dtype=float32)\n",
            "tf.Tensor(1.5716705, shape=(), dtype=float32)\n",
            "tf.Tensor(2.3307123, shape=(), dtype=float32)\n",
            "tf.Tensor(0.926913, shape=(), dtype=float32)\n",
            "tf.Tensor(1.9121256, shape=(), dtype=float32)\n",
            "tf.Tensor(0.9425396, shape=(), dtype=float32)\n",
            "tf.Tensor(2.0948763, shape=(), dtype=float32)\n",
            "tf.Tensor(1.1447022, shape=(), dtype=float32)\n",
            "tf.Tensor(4.256405, shape=(), dtype=float32)\n",
            "tf.Tensor(1.1954154, shape=(), dtype=float32)\n",
            "tf.Tensor(0.59728646, shape=(), dtype=float32)\n",
            "tf.Tensor(1.2698759, shape=(), dtype=float32)\n",
            "Epochs  10\n",
            "tf.Tensor(3.3223898, shape=(), dtype=float32)\n",
            "tf.Tensor(0.5049281, shape=(), dtype=float32)\n",
            "tf.Tensor(0.92554086, shape=(), dtype=float32)\n",
            "tf.Tensor(1.133927, shape=(), dtype=float32)\n",
            "tf.Tensor(0.8669572, shape=(), dtype=float32)\n",
            "tf.Tensor(1.2479634, shape=(), dtype=float32)\n",
            "tf.Tensor(1.6690538, shape=(), dtype=float32)\n",
            "tf.Tensor(1.0714953, shape=(), dtype=float32)\n",
            "tf.Tensor(2.833161, shape=(), dtype=float32)\n",
            "tf.Tensor(1.2750901, shape=(), dtype=float32)\n",
            "tf.Tensor(1.7428794, shape=(), dtype=float32)\n",
            "tf.Tensor(2.980464, shape=(), dtype=float32)\n"
          ],
          "name": "stdout"
        }
      ]
    }
  ]
}