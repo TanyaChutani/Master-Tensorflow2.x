{
  "nbformat": 4,
  "nbformat_minor": 0,
  "metadata": {
    "colab": {
      "name": "Activation-Maps.ipynb",
      "provenance": [],
      "collapsed_sections": []
    },
    "kernelspec": {
      "name": "python3",
      "display_name": "Python 3"
    }
  },
  "cells": [
    {
      "cell_type": "code",
      "metadata": {
        "id": "Xr-557UhttJI"
      },
      "source": [
        "import matplotlib.pyplot as plt\n",
        "import tensorflow as tf\n",
        "import numpy as np\n",
        "import cv2"
      ],
      "execution_count": 1,
      "outputs": []
    },
    {
      "cell_type": "code",
      "metadata": {
        "id": "djIf1A1KtyUw"
      },
      "source": [
        "def load_image(image, target_width, target_height):\n",
        "  image = tf.keras.preprocessing.image.load_img(image)\n",
        "  image = image.reshape(1,target_width, target_height, 3)\n",
        "  image = image / 255.0\n",
        "  return image\n",
        "\n",
        "\n",
        "def vgg_model(image, label, target_width, target_height, classes):\n",
        "  model = tf.keras.applications.VGG16(weights='imagenet',\n",
        "                                      include_top=False,\n",
        "                                      input_shape=(target_width,target_height,3))\n",
        "  x = tf.keras.layers.GlobalAveragePooling2D()(model.outputs)\n",
        "  output = Dense(classes)(x)\n",
        "  model = tf.keras.models.Model(inputs=model.inputs,outputs=output)\n",
        "  model.compile(loss=tf.keras.losses.BinaryCrossEntropy(logits=True),\n",
        "                optimizer='adam',\n",
        "                metrics=['accuracy'])\n",
        "  model.fit(image,label,epochs=epochs)\n",
        "  return model\n"
      ],
      "execution_count": null,
      "outputs": []
    }
  ]
}