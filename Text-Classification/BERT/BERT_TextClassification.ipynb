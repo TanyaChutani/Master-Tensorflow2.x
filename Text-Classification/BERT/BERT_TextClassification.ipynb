{
  "nbformat": 4,
  "nbformat_minor": 0,
  "metadata": {
    "colab": {
      "name": "BERT-TextClassification.ipynb",
      "provenance": [],
      "collapsed_sections": []
    },
    "kernelspec": {
      "name": "python3",
      "display_name": "Python 3"
    },
    "language_info": {
      "name": "python"
    }
  },
  "cells": [
    {
      "cell_type": "code",
      "metadata": {
        "colab": {
          "base_uri": "https://localhost:8080/"
        },
        "id": "qFJ7kt6fvzsy",
        "outputId": "310bf19f-8b94-4776-fbea-d3c3583734d6"
      },
      "source": [
        "!nvidia-smi"
      ],
      "execution_count": null,
      "outputs": [
        {
          "output_type": "stream",
          "text": [
            "Sun Mar 28 08:05:06 2021       \n",
            "+-----------------------------------------------------------------------------+\n",
            "| NVIDIA-SMI 460.56       Driver Version: 460.32.03    CUDA Version: 11.2     |\n",
            "|-------------------------------+----------------------+----------------------+\n",
            "| GPU  Name        Persistence-M| Bus-Id        Disp.A | Volatile Uncorr. ECC |\n",
            "| Fan  Temp  Perf  Pwr:Usage/Cap|         Memory-Usage | GPU-Util  Compute M. |\n",
            "|                               |                      |               MIG M. |\n",
            "|===============================+======================+======================|\n",
            "|   0  Tesla T4            Off  | 00000000:00:04.0 Off |                    0 |\n",
            "| N/A   57C    P8    10W /  70W |      0MiB / 15109MiB |      0%      Default |\n",
            "|                               |                      |                  N/A |\n",
            "+-------------------------------+----------------------+----------------------+\n",
            "                                                                               \n",
            "+-----------------------------------------------------------------------------+\n",
            "| Processes:                                                                  |\n",
            "|  GPU   GI   CI        PID   Type   Process name                  GPU Memory |\n",
            "|        ID   ID                                                   Usage      |\n",
            "|=============================================================================|\n",
            "|  No running processes found                                                 |\n",
            "+-----------------------------------------------------------------------------+\n"
          ],
          "name": "stdout"
        }
      ]
    },
    {
      "cell_type": "code",
      "metadata": {
        "id": "u9Ny9P16fXzJ",
        "colab": {
          "base_uri": "https://localhost:8080/"
        },
        "outputId": "ab27558c-bb05-47ad-9968-ea9d1804d1ad"
      },
      "source": [
        "!unzip /content/jigsaw-toxic-comment-classification-challenge.zip"
      ],
      "execution_count": null,
      "outputs": [
        {
          "output_type": "stream",
          "text": [
            "Archive:  /content/jigsaw-toxic-comment-classification-challenge.zip\n",
            "  inflating: sample_submission.csv.zip  \n",
            "  inflating: test.csv.zip            \n",
            "  inflating: test_labels.csv.zip     \n",
            "  inflating: train.csv.zip           \n"
          ],
          "name": "stdout"
        }
      ]
    },
    {
      "cell_type": "code",
      "metadata": {
        "id": "yg6ygSN9k6DE",
        "colab": {
          "base_uri": "https://localhost:8080/"
        },
        "outputId": "cd56870e-8c3e-4e29-9a0e-3e57858bc7ea"
      },
      "source": [
        "!unzip /content/train.csv.zip\n",
        "!unzip /content/test.csv.zip"
      ],
      "execution_count": null,
      "outputs": [
        {
          "output_type": "stream",
          "text": [
            "Archive:  /content/train.csv.zip\n",
            "  inflating: train.csv               \n",
            "Archive:  /content/test.csv.zip\n",
            "  inflating: test.csv                \n"
          ],
          "name": "stdout"
        }
      ]
    },
    {
      "cell_type": "code",
      "metadata": {
        "id": "6t30vYiJfXcN",
        "colab": {
          "base_uri": "https://localhost:8080/"
        },
        "outputId": "c9ebc99a-ebc9-4ffc-c771-c000eebd9424"
      },
      "source": [
        "!pip3 install bert-for-tf2\n",
        "!pip3 install sentencepiece"
      ],
      "execution_count": null,
      "outputs": [
        {
          "output_type": "stream",
          "text": [
            "Collecting bert-for-tf2\n",
            "\u001b[?25l  Downloading https://files.pythonhosted.org/packages/a5/a1/acb891630749c56901e770a34d6bac8a509a367dd74a05daf7306952e910/bert-for-tf2-0.14.9.tar.gz (41kB)\n",
            "\r\u001b[K     |████████                        | 10kB 23.9MB/s eta 0:00:01\r\u001b[K     |████████████████                | 20kB 31.3MB/s eta 0:00:01\r\u001b[K     |███████████████████████▉        | 30kB 23.1MB/s eta 0:00:01\r\u001b[K     |███████████████████████████████▉| 40kB 26.2MB/s eta 0:00:01\r\u001b[K     |████████████████████████████████| 51kB 6.1MB/s \n",
            "\u001b[?25hCollecting py-params>=0.9.6\n",
            "  Downloading https://files.pythonhosted.org/packages/aa/e0/4f663d8abf83c8084b75b995bd2ab3a9512ebc5b97206fde38cef906ab07/py-params-0.10.2.tar.gz\n",
            "Collecting params-flow>=0.8.0\n",
            "  Downloading https://files.pythonhosted.org/packages/a9/95/ff49f5ebd501f142a6f0aaf42bcfd1c192dc54909d1d9eb84ab031d46056/params-flow-0.8.2.tar.gz\n",
            "Requirement already satisfied: numpy in /usr/local/lib/python3.7/dist-packages (from params-flow>=0.8.0->bert-for-tf2) (1.19.5)\n",
            "Requirement already satisfied: tqdm in /usr/local/lib/python3.7/dist-packages (from params-flow>=0.8.0->bert-for-tf2) (4.41.1)\n",
            "Building wheels for collected packages: bert-for-tf2, py-params, params-flow\n",
            "  Building wheel for bert-for-tf2 (setup.py) ... \u001b[?25l\u001b[?25hdone\n",
            "  Created wheel for bert-for-tf2: filename=bert_for_tf2-0.14.9-cp37-none-any.whl size=30535 sha256=89246a2ff281a2f83a2aa47298208f6242890ce8862cf77596c11c859095cd70\n",
            "  Stored in directory: /root/.cache/pip/wheels/a1/04/ee/347bd9f5b821b637c76411d280271a857aece00358896a230f\n",
            "  Building wheel for py-params (setup.py) ... \u001b[?25l\u001b[?25hdone\n",
            "  Created wheel for py-params: filename=py_params-0.10.2-cp37-none-any.whl size=7912 sha256=1d55a136b6a11806125dc827abcf25e6b41e6d0d98cf14cfcc5ded7d3e6a7e6d\n",
            "  Stored in directory: /root/.cache/pip/wheels/d0/4a/70/ff12450229ff1955abf01f365051d4faae1c20aef53ab4cf09\n",
            "  Building wheel for params-flow (setup.py) ... \u001b[?25l\u001b[?25hdone\n",
            "  Created wheel for params-flow: filename=params_flow-0.8.2-cp37-none-any.whl size=19472 sha256=5c5eef46739e43b0c0c76a66edf6f473a2e951d255f619633a72af5e26f2dcd4\n",
            "  Stored in directory: /root/.cache/pip/wheels/08/c8/7f/81c86b9ff2b86e2c477e3914175be03e679e596067dc630c06\n",
            "Successfully built bert-for-tf2 py-params params-flow\n",
            "Installing collected packages: py-params, params-flow, bert-for-tf2\n",
            "Successfully installed bert-for-tf2-0.14.9 params-flow-0.8.2 py-params-0.10.2\n",
            "Collecting sentencepiece\n",
            "\u001b[?25l  Downloading https://files.pythonhosted.org/packages/f5/99/e0808cb947ba10f575839c43e8fafc9cc44e4a7a2c8f79c60db48220a577/sentencepiece-0.1.95-cp37-cp37m-manylinux2014_x86_64.whl (1.2MB)\n",
            "\u001b[K     |████████████████████████████████| 1.2MB 16.8MB/s \n",
            "\u001b[?25hInstalling collected packages: sentencepiece\n",
            "Successfully installed sentencepiece-0.1.95\n"
          ],
          "name": "stdout"
        }
      ]
    },
    {
      "cell_type": "code",
      "metadata": {
        "id": "cxSVwt16KsR1",
        "colab": {
          "base_uri": "https://localhost:8080/"
        },
        "outputId": "2e5e6e46-faba-4142-9bbe-7587532e59b2"
      },
      "source": [
        "!wget https://storage.googleapis.com/bert_models/2018_10_18/uncased_L-12_H-768_A-12.zip\n",
        "!unzip uncased_L-12_H-768_A-12.zip"
      ],
      "execution_count": null,
      "outputs": [
        {
          "output_type": "stream",
          "text": [
            "--2021-03-28 08:05:40--  https://storage.googleapis.com/bert_models/2018_10_18/uncased_L-12_H-768_A-12.zip\n",
            "Resolving storage.googleapis.com (storage.googleapis.com)... 172.253.122.128, 172.217.2.112, 172.253.63.128, ...\n",
            "Connecting to storage.googleapis.com (storage.googleapis.com)|172.253.122.128|:443... connected.\n",
            "HTTP request sent, awaiting response... 200 OK\n",
            "Length: 407727028 (389M) [application/zip]\n",
            "Saving to: ‘uncased_L-12_H-768_A-12.zip’\n",
            "\n",
            "uncased_L-12_H-768_ 100%[===================>] 388.84M   237MB/s    in 1.6s    \n",
            "\n",
            "2021-03-28 08:05:42 (237 MB/s) - ‘uncased_L-12_H-768_A-12.zip’ saved [407727028/407727028]\n",
            "\n",
            "Archive:  uncased_L-12_H-768_A-12.zip\n",
            "   creating: uncased_L-12_H-768_A-12/\n",
            "  inflating: uncased_L-12_H-768_A-12/bert_model.ckpt.meta  \n",
            "  inflating: uncased_L-12_H-768_A-12/bert_model.ckpt.data-00000-of-00001  \n",
            "  inflating: uncased_L-12_H-768_A-12/vocab.txt  \n",
            "  inflating: uncased_L-12_H-768_A-12/bert_model.ckpt.index  \n",
            "  inflating: uncased_L-12_H-768_A-12/bert_config.json  \n"
          ],
          "name": "stdout"
        }
      ]
    },
    {
      "cell_type": "code",
      "metadata": {
        "colab": {
          "base_uri": "https://localhost:8080/"
        },
        "id": "s8taCzEvfR26",
        "outputId": "7369c112-5a9a-46e9-be58-59a7a3d1f0d2"
      },
      "source": [
        "import os\n",
        "import re\n",
        "import bert\n",
        "import nltk\n",
        "import tqdm\n",
        "import argparse\n",
        "import numpy as np\n",
        "import pandas as pd\n",
        "import tensorflow as tf\n",
        "from bert import BertModelLayer\n",
        "import matplotlib.pyplot as plt\n",
        "from bert.loader import StockBertConfig, map_stock_config_to_params, load_stock_weights\n",
        "\n",
        "nltk.download('stopwords')\n",
        "nltk.download('punkt')"
      ],
      "execution_count": null,
      "outputs": [
        {
          "output_type": "stream",
          "text": [
            "[nltk_data] Downloading package stopwords to /root/nltk_data...\n",
            "[nltk_data]   Unzipping corpora/stopwords.zip.\n",
            "[nltk_data] Downloading package punkt to /root/nltk_data...\n",
            "[nltk_data]   Unzipping tokenizers/punkt.zip.\n"
          ],
          "name": "stdout"
        },
        {
          "output_type": "execute_result",
          "data": {
            "text/plain": [
              "True"
            ]
          },
          "metadata": {
            "tags": []
          },
          "execution_count": 4
        }
      ]
    },
    {
      "cell_type": "code",
      "metadata": {
        "id": "8Te2Mw5rwhcf"
      },
      "source": [
        "class InputPipeline:\n",
        "  def __init__(self, train_data,test_data,tokenizer,max_length):\n",
        "    self.train_data = train_data\n",
        "    self.test_data = test_data\n",
        "    self.tokenizer = tokenizer\n",
        "    self.stopwords = nltk.corpus.stopwords.words('english')\n",
        "    self.max_len = max_length\n",
        "    self.train_data['comment_text'] = self.train_data['comment_text'].astype(str)\n",
        "    self.test_data['comment_text'] = self.test_data['comment_text'].astype(str)\n",
        "    \n",
        "    self.train_data['cleaned_comment'] = [self.clean_comment(comment) for comment in self.train_data[\"comment_text\"]]\n",
        "    self.test_data['cleaned_comment'] = [self.clean_comment(comment) for comment in self.test_data[\"comment_text\"]]  \n",
        "\n",
        "    self.train_data_tokenized_comments = [self.tokenize_comment(comment) for comment in self.train_data['cleaned_comment']]\n",
        "    self.train_labels = self.train_data.drop(columns=['comment_text','cleaned_comment','id'],axis=1).values\n",
        "    self.test_data_tokenized_comments = [self.tokenize_comment(comment) for comment in self.test_data['cleaned_comment']]\n",
        "    self.test_labels = self.test_data.drop(columns=['comment_text','cleaned_comment','id'],axis=1).values\n",
        "\n",
        "    self.train_input = tf.keras.preprocessing.sequence.pad_sequences(self.train_data_tokenized_comments, padding='post', maxlen=self.max_len)\n",
        "    self.test_input = tf.keras.preprocessing.sequence.pad_sequences(self.test_data_tokenized_comments, padding='post', maxlen=self.max_len)\n",
        "\n",
        "  def clean_comment(self,comment):\n",
        "    comment = nltk.word_tokenize(comment.lower())\n",
        "    comment = [i for i in comment if i not in self.stopwords]\n",
        "    comment = \" \".join(comment)\n",
        "    comment = ' '.join(re.sub(\"(@[A-Za-z0-9]+)|([^0-9A-Za-z \\t])|(\\w+:\\/\\/\\S+)\"\\\n",
        "                              , \" \", comment).split())\n",
        "    return comment     \n",
        "  \n",
        "  def tokenize_comment(self,comment):\n",
        "    return self.tokenizer.convert_tokens_to_ids([\"[CLS]\"] + self.tokenizer.tokenize(comment)[:self.max_len] + [\"[SEP]\"])"
      ],
      "execution_count": null,
      "outputs": []
    },
    {
      "cell_type": "code",
      "metadata": {
        "id": "IqJPJDKgNeJx"
      },
      "source": [
        "class BERT(tf.keras.models.Model):\n",
        "  def __init__(self,max_len, bert_checkpoint,bert_config):\n",
        "    super(BERT, self).__init__()\n",
        "    self.max_len = max_len\n",
        "    self.bert_checkpoint = bert_checkpoint\n",
        "    self.bert_config = bert_config\n",
        "    self.labels = 6\n",
        "    self.bert = self.call_model()\n",
        "    self.lambda_layer = tf.keras.layers.Lambda(lambda seq: seq[:, 0, :])\n",
        "    self.dropout_layer_1 = tf.keras.layers.Dropout(0.5)\n",
        "    self.dense_layer_1 = tf.keras.layers.Dense(units=768, activation=\"tanh\")\n",
        "    self.dropout_layer_2 = tf.keras.layers.Dropout(0.5)\n",
        "    self.dense_layer_2 = tf.keras.layers.Dense(units=self.labels, activation=\"sigmoid\")\n",
        "\n",
        "  def call_model(self):\n",
        "    with tf.io.gfile.GFile(self.bert_config, \"r\") as reader:\n",
        "      cfg = StockBertConfig.from_json_string(reader.read())\n",
        "      bert_params = map_stock_config_to_params(cfg)\n",
        "      bert_params.adapter_size = None\n",
        "      bert_model = BertModelLayer.from_params(bert_params)  \n",
        "      return bert_model\n",
        "\n",
        "  def call(self,input_tensor):\n",
        "    x = self.bert(input_tensor)\n",
        "    x = self.lambda_layer(x)\n",
        "    x = self.dropout_layer_1(x)\n",
        "    x = self.dense_layer_1(x)\n",
        "    x = self.dropout_layer_2(x)\n",
        "    x = self.dense_layer_2(x)\n",
        "    return x\n"
      ],
      "execution_count": null,
      "outputs": []
    },
    {
      "cell_type": "code",
      "metadata": {
        "colab": {
          "base_uri": "https://localhost:8080/",
          "height": 606
        },
        "id": "XP9M0nvRzZRS",
        "outputId": "a04e8447-0ab9-4631-ff31-491f2615196c"
      },
      "source": [
        "def train_bert():\n",
        "  train_path = \"train.csv\"\n",
        "  test_path = \"test.csv\"\n",
        "  bert_main_checkpoint = \"uncased_L-12_H-768_A-12/bert_model.ckpt\"\n",
        "  bert_vocab = \"uncased_L-12_H-768_A-12/vocab.txt\"\n",
        "  bert_config =  \"uncased_L-12_H-768_A-12/bert_config.json\"\n",
        "  max_length = 300\n",
        "  classes = ['toxic', 'severe_toxic', 'obscene', 'threat', 'insult', 'identity_hate']\n",
        "\n",
        "  train_data = pd.read_csv(train_path)\n",
        "  test_data = pd.read_csv(test_path)\n",
        "\n",
        "  print(train_data.head())\n",
        "  print(\"Missing Values\",((train_data.isnull() | train_data.isna())\\\n",
        "                          .sum() * 100 / train_data.index.size).round(2))\n",
        "  #EDA\n",
        "  count_labels = pd.DataFrame(train_data[classes].sum()).reset_index()\n",
        "  count_labels.columns = ['labels','count']\n",
        "  bar_graph = plt.bar(count_labels['labels'],count_labels['count'])\n",
        "  plt.xlabel('labels')\n",
        "  plt.ylabel('count')\n",
        "  plt.show()\n",
        "    \n",
        "  tokenizer = bert.tokenization.bert_tokenization.FullTokenizer(vocab_file=os.path.join(bert_vocab))\n",
        "  pipeline = InputPipeline(train_data = train_data,\n",
        "                         test_data = test_data,\n",
        "                         tokenizer = tokenizer,\n",
        "                         max_length = max_length)\n",
        "  \n",
        "  bert_model = BERT(max_len=max_length, bert_checkpoint=bert_main_checkpoint,bert_config=bert_config)\n",
        "  bert_model.compile(\n",
        "  optimizer=tf.keras.optimizers.Adam(),\n",
        "  loss=\"binary_crossentropy\",\n",
        "  metrics=[\"accuracy\"])\n",
        "\n",
        "  callback=tf.keras.callbacks.ModelCheckpoint(\n",
        "        filepath='/content/drive/MyDrive/bert_model_{epoch:02d}.h5',\n",
        "        monitor='loss',\n",
        "        save_best_only=False,\n",
        "        save_weights_only=True,\n",
        "        mode='min',\n",
        "        verbose=1)\n",
        "  history = bert_model.fit(\n",
        "  x=pipeline.train_input, \n",
        "  y=pipeline.train_labels,\n",
        "  validation_split=0.05,\n",
        "  batch_size=8,\n",
        "  shuffle=True,\n",
        "  epochs=2,\n",
        "  callbacks=[callback])\n",
        "\n",
        "  results = bert_model.evaluate(pipeline.test_input,pipeline.test_labels)\n",
        "\n",
        "if __name__ == \"__main__\":\n",
        "  train_bert()"
      ],
      "execution_count": null,
      "outputs": [
        {
          "output_type": "stream",
          "text": [
            "                 id  ... identity_hate\n",
            "0  0000997932d777bf  ...             0\n",
            "1  000103f0d9cfb60f  ...             0\n",
            "2  000113f07ec002fd  ...             0\n",
            "3  0001b41b1c6bb37e  ...             0\n",
            "4  0001d958c54c6e35  ...             0\n",
            "\n",
            "[5 rows x 8 columns]\n",
            "Missing Values id               0.0\n",
            "comment_text     0.0\n",
            "toxic            0.0\n",
            "severe_toxic     0.0\n",
            "obscene          0.0\n",
            "threat           0.0\n",
            "insult           0.0\n",
            "identity_hate    0.0\n",
            "dtype: float64\n"
          ],
          "name": "stdout"
        },
        {
          "output_type": "display_data",
          "data": {
            "image/png": "[encoded data removed]",
            "text/plain": [
              "<Figure size 432x288 with 1 Axes>"
            ]
          },
          "metadata": {
            "tags": [],
            "needs_background": "light"
          }
        },
        {
          "output_type": "stream",
          "text": [
            "Epoch 1/2\n",
            "12821/18949 [===================>..........] - ETA: 1:08:03 - loss: 0.1639 - accuracy: 0.6239"
          ],
          "name": "stdout"
        }
      ]
    }
  ]
}